{
 "cells": [
  {
   "attachments": {},
   "cell_type": "markdown",
   "metadata": {},
   "source": [
    "## Requirements for this notebook.\n",
    "to run this notebook you need to install the following packages:\n",
    "- requests\n",
    "- aiohttp"
   ]
  },
  {
   "attachments": {},
   "cell_type": "markdown",
   "metadata": {
    "collapsed": false
   },
   "source": [
    "### Asyncronous programming\n",
    "Asyncronous programming is a way of writing code that allows you to run multiple tasks at the same time. This is useful when you have a task that takes a long time to complete, and you want to do other things while you wait for it to finish. Foe example, if you are downloading a file from the internet, you can do other things while you wait for the download to finish, like request another file from the internet. Modern web brousers use asyncronous programming to download multiple elements at the same time, so that the page loads faster. (by default they download 6 elements at the same time)\n",
    "\n",
    "Python has full support for asyncronous programming. In this notebook we will use the `requests` library to make HTTP requests, and the `aiohttp` library to make asyncronous HTTP requests."
   ]
  },
  {
   "attachments": {},
   "cell_type": "markdown",
   "metadata": {},
   "source": [
    "The trick about asyncronous programming is that you have to write your code in a special way. You have to use the `async` and `await` keywords. The `async` keyword is used to define a function that is asyncronous. The `await` keyword is used to wait for an asyncronous function to finish.\n",
    "\n",
    "An asyncronous function is a function that returns a `coroutine` object. A `coroutine` object is a special object that represents a task that is running (or will start running) in the background, in an `event loop`. \n",
    "Asyncronous programming might sound complicated, but it is actually very simple, as long you follow a few rules.\n",
    " - You define your asyncronous functions with the `async` keyword.\n",
    " - You can only use the `await` keyword inside an asyncronous function.\n",
    " - You need to create your tasks before hand.\n",
    " - You need to execute your tasks in an `event loop`.\n",
    "\n",
    "Thankfully recent versions of python have made asyncronous programming very easy compared to older versions.\n",
    "\n",
    "> Note: A more in depth explanation of asyncronous programming with example can be found in the [trio turotial](https://trio.readthedocs.io/en/stable/tutorial.html).\n",
    "\n",
    "Here is an example of an asyncronous function:\n",
    "\n"
   ]
  },
  {
   "cell_type": "code",
   "execution_count": 35,
   "metadata": {},
   "outputs": [
    {
     "name": "stdout",
     "output_type": "stream",
     "text": [
      "task1 going to sleep!\n",
      "task2 going to sleep!\n",
      "task3 going to sleep!\n",
      "task3 woke up after 1.0020 seconds\n",
      "task2 woke up after 2.0013 seconds\n",
      "task1 woke up after 3.0018 seconds\n",
      "all done in 3.0023 seconds\n"
     ]
    }
   ],
   "source": [
    "import asyncio\n",
    "import time\n",
    "tasks = set()\n",
    "\n",
    "async def wait(task_id:str,sleep_time:int):\n",
    "    print('%s going to sleep!' % task_id)\n",
    "    start_time = time.time()\n",
    "    await asyncio.sleep(sleep_time)\n",
    "    print('%s woke up after %.4f seconds' % (task_id,time.time() - start_time))\n",
    "    \n",
    "start_time = time.time()\n",
    "# add tasks to the set\n",
    "for task_id,sleep_time in (('task1',3), ('task2',2), ('task3',1)):\n",
    "    tasks.add(asyncio.ensure_future(wait(task_id,sleep_time)))\n",
    "\n",
    "# collect results as they come back\n",
    "for result in asyncio.as_completed(tasks):\n",
    "    await result\n",
    "\n",
    "print('all done in %.4f seconds' % (time.time() - start_time) )"
   ]
  },
  {
   "cell_type": "code",
   "execution_count": 5,
   "metadata": {
    "collapsed": false
   },
   "outputs": [],
   "source": [
    "import asyncio\n",
    "import time\n",
    "URL_BASE = \"https://glasgow-cctv.ubdc.ac.uk/api/\""
   ]
  },
  {
   "cell_type": "code",
   "execution_count": 6,
   "metadata": {
    "collapsed": false
   },
   "outputs": [
    {
     "name": "stderr",
     "output_type": "stream",
     "text": [
      "Unclosed client session\n",
      "client_session: <aiohttp.client.ClientSession object at 0x0000021319ADD240>\n"
     ]
    }
   ],
   "source": [
    "import aiohttp\n",
    "\n",
    "session = aiohttp.ClientSession()\n",
    "result = session.get(\"https://glasgow-cctv.ubdc.ac.uk/api/\")\n",
    "response = await result\n",
    "cameras = await response.json()"
   ]
  },
  {
   "cell_type": "code",
   "execution_count": 1,
   "metadata": {
    "collapsed": false
   },
   "outputs": [],
   "source": [
    "import aiohttp\n",
    "import pandas as pd\n",
    "\n",
    "session = aiohttp.ClientSession()\n",
    "first_page = session.get(\"https://glasgow-cctv.ubdc.ac.uk/api/records/\")\n",
    "response = await first_page\n",
    "record_set = await response.json()\n",
    "await session.close()\n",
    "df = pd.DataFrame.from_records(record_set[\"results\"], index=\"id\")"
   ]
  },
  {
   "cell_type": "code",
   "execution_count": 2,
   "metadata": {
    "collapsed": false
   },
   "outputs": [],
   "source": [
    "df = pd.DataFrame(columns=df.columns)"
   ]
  },
  {
   "cell_type": "code",
   "execution_count": 6,
   "metadata": {
    "collapsed": false
   },
   "outputs": [
    {
     "name": "stdout",
     "output_type": "stream",
     "text": [
      "6.80492377281189\n"
     ]
    }
   ],
   "source": [
    "import time\n",
    "import asyncio\n",
    "import aiohttp\n",
    "URL_BASE = \"https://glasgow-cctv.ubdc.ac.uk/api/\"\n",
    "start_time = time.time()\n",
    "tasks = set()\n",
    "sem = asyncio.Semaphore(50)\n",
    "import pandas as pd\n",
    "from itertools import product\n",
    "cameras = [54, 40, 68]\n",
    "\n",
    "\n",
    "async def get_records(session, page: int = 1, camera_id: int = None):\n",
    "    async with sem:\n",
    "        async with session.get(URL_BASE + \"records/\", params={\"page\": page}) as resp:\n",
    "            data = await resp.json()\n",
    "            return data\n",
    "\n",
    "first_page = await get_records(session, 1, 54)\n",
    "first_page_data = await first_page.json()\n",
    "\n",
    "async with aiohttp.ClientSession() as session:\n",
    "    for page, camera_id in product(range(1, 100), cameras):\n",
    "        tasks.add(asyncio.ensure_future(get_records(session, page, camera_id)))\n",
    "    for result in asyncio.as_completed(tasks):\n",
    "        data = await result\n",
    "        df = pd.concat([df, pd.DataFrame.from_records(data[\"results\"], index=\"id\")])\n",
    "print(time.time() - start_time)"
   ]
  },
  {
   "cell_type": "code",
   "execution_count": 107,
   "metadata": {
    "collapsed": false
   },
   "outputs": [],
   "source": []
  },
  {
   "cell_type": "code",
   "execution_count": 114,
   "metadata": {
    "collapsed": false
   },
   "outputs": [
    {
     "name": "stdout",
     "output_type": "stream",
     "text": [
      "<class 'pandas.core.frame.DataFrame'>\n",
      "Int64Index: 4455 entries, 1010299 to 1011753\n",
      "Data columns (total 9 columns):\n",
      " #   Column       Non-Null Count  Dtype \n",
      "---  ------       --------------  ----- \n",
      " 0   camera       4455 non-null   object\n",
      " 1   timestamp    4455 non-null   object\n",
      " 2   cars         4455 non-null   object\n",
      " 3   persons      4455 non-null   object\n",
      " 4   bicycles     4455 non-null   object\n",
      " 5   trucks       4455 non-null   object\n",
      " 6   motorcycles  4455 non-null   object\n",
      " 7   buses        4455 non-null   object\n",
      " 8   camera_ok    0 non-null      object\n",
      "dtypes: object(9)\n",
      "memory usage: 348.0+ KB\n"
     ]
    }
   ],
   "source": [
    "df.info()"
   ]
  },
  {
   "cell_type": "code",
   "execution_count": 106,
   "metadata": {
    "collapsed": false
   },
   "outputs": [
    {
     "data": {
      "text/html": [
       "<div>\n",
       "<style scoped>\n",
       "    .dataframe tbody tr th:only-of-type {\n",
       "        vertical-align: middle;\n",
       "    }\n",
       "\n",
       "    .dataframe tbody tr th {\n",
       "        vertical-align: top;\n",
       "    }\n",
       "\n",
       "    .dataframe thead th {\n",
       "        text-align: right;\n",
       "    }\n",
       "</style>\n",
       "<table border=\"1\" class=\"dataframe\">\n",
       "  <thead>\n",
       "    <tr style=\"text-align: right;\">\n",
       "      <th></th>\n",
       "      <th>camera</th>\n",
       "      <th>cars</th>\n",
       "      <th>persons</th>\n",
       "      <th>bicycles</th>\n",
       "      <th>trucks</th>\n",
       "      <th>motorcycles</th>\n",
       "      <th>buses</th>\n",
       "    </tr>\n",
       "  </thead>\n",
       "  <tbody>\n",
       "    <tr>\n",
       "      <th>count</th>\n",
       "      <td>1485.0</td>\n",
       "      <td>1485.000000</td>\n",
       "      <td>1485.000000</td>\n",
       "      <td>1485.000000</td>\n",
       "      <td>1485.000000</td>\n",
       "      <td>1485.000000</td>\n",
       "      <td>1485.000000</td>\n",
       "    </tr>\n",
       "    <tr>\n",
       "      <th>mean</th>\n",
       "      <td>3.0</td>\n",
       "      <td>2.327273</td>\n",
       "      <td>6.807407</td>\n",
       "      <td>0.052525</td>\n",
       "      <td>0.071380</td>\n",
       "      <td>0.020202</td>\n",
       "      <td>0.277441</td>\n",
       "    </tr>\n",
       "    <tr>\n",
       "      <th>std</th>\n",
       "      <td>0.0</td>\n",
       "      <td>1.848534</td>\n",
       "      <td>5.480234</td>\n",
       "      <td>0.248856</td>\n",
       "      <td>0.275252</td>\n",
       "      <td>0.140738</td>\n",
       "      <td>0.607508</td>\n",
       "    </tr>\n",
       "    <tr>\n",
       "      <th>min</th>\n",
       "      <td>3.0</td>\n",
       "      <td>0.000000</td>\n",
       "      <td>0.000000</td>\n",
       "      <td>0.000000</td>\n",
       "      <td>0.000000</td>\n",
       "      <td>0.000000</td>\n",
       "      <td>0.000000</td>\n",
       "    </tr>\n",
       "    <tr>\n",
       "      <th>25%</th>\n",
       "      <td>3.0</td>\n",
       "      <td>1.000000</td>\n",
       "      <td>2.000000</td>\n",
       "      <td>0.000000</td>\n",
       "      <td>0.000000</td>\n",
       "      <td>0.000000</td>\n",
       "      <td>0.000000</td>\n",
       "    </tr>\n",
       "    <tr>\n",
       "      <th>50%</th>\n",
       "      <td>3.0</td>\n",
       "      <td>2.000000</td>\n",
       "      <td>6.000000</td>\n",
       "      <td>0.000000</td>\n",
       "      <td>0.000000</td>\n",
       "      <td>0.000000</td>\n",
       "      <td>0.000000</td>\n",
       "    </tr>\n",
       "    <tr>\n",
       "      <th>75%</th>\n",
       "      <td>3.0</td>\n",
       "      <td>3.000000</td>\n",
       "      <td>11.000000</td>\n",
       "      <td>0.000000</td>\n",
       "      <td>0.000000</td>\n",
       "      <td>0.000000</td>\n",
       "      <td>0.000000</td>\n",
       "    </tr>\n",
       "    <tr>\n",
       "      <th>max</th>\n",
       "      <td>3.0</td>\n",
       "      <td>11.000000</td>\n",
       "      <td>25.000000</td>\n",
       "      <td>2.000000</td>\n",
       "      <td>2.000000</td>\n",
       "      <td>1.000000</td>\n",
       "      <td>4.000000</td>\n",
       "    </tr>\n",
       "  </tbody>\n",
       "</table>\n",
       "</div>"
      ],
      "text/plain": [
       "       camera         cars      persons     bicycles       trucks  \\\n",
       "count  1485.0  1485.000000  1485.000000  1485.000000  1485.000000   \n",
       "mean      3.0     2.327273     6.807407     0.052525     0.071380   \n",
       "std       0.0     1.848534     5.480234     0.248856     0.275252   \n",
       "min       3.0     0.000000     0.000000     0.000000     0.000000   \n",
       "25%       3.0     1.000000     2.000000     0.000000     0.000000   \n",
       "50%       3.0     2.000000     6.000000     0.000000     0.000000   \n",
       "75%       3.0     3.000000    11.000000     0.000000     0.000000   \n",
       "max       3.0    11.000000    25.000000     2.000000     2.000000   \n",
       "\n",
       "       motorcycles        buses  \n",
       "count  1485.000000  1485.000000  \n",
       "mean      0.020202     0.277441  \n",
       "std       0.140738     0.607508  \n",
       "min       0.000000     0.000000  \n",
       "25%       0.000000     0.000000  \n",
       "50%       0.000000     0.000000  \n",
       "75%       0.000000     0.000000  \n",
       "max       1.000000     4.000000  "
      ]
     },
     "execution_count": 106,
     "metadata": {},
     "output_type": "execute_result"
    }
   ],
   "source": [
    "df.describe()"
   ]
  },
  {
   "cell_type": "code",
   "execution_count": 64,
   "metadata": {
    "collapsed": false
   },
   "outputs": [
    {
     "name": "stdout",
     "output_type": "stream",
     "text": [
      "1.960942029953003\n"
     ]
    }
   ],
   "source": [
    "start_time = time.time()\n",
    "import requests\n",
    "\n",
    "with requests.Session() as session:\n",
    "    for page in range(2, 15):\n",
    "        response = session.get(URL_BASE + \"records/\", params={\"page\": page})\n",
    "        response.json()\n",
    "print(time.time() - start_time)"
   ]
  },
  {
   "cell_type": "code",
   "execution_count": 80,
   "metadata": {
    "collapsed": false
   },
   "outputs": [],
   "source": [
    "df[\"timestamp\"] = pd.to_datetime(df[\"timestamp\"])"
   ]
  },
  {
   "cell_type": "code",
   "execution_count": 74,
   "metadata": {
    "collapsed": false
   },
   "outputs": [],
   "source": [
    "import seaborn as sns\n",
    "import matplotlib as plt"
   ]
  },
  {
   "cell_type": "code",
   "execution_count": 91,
   "metadata": {
    "collapsed": false
   },
   "outputs": [
    {
     "data": {
      "text/plain": [
       "<seaborn.axisgrid.FacetGrid at 0x228986aacb0>"
      ]
     },
     "execution_count": 91,
     "metadata": {},
     "output_type": "execute_result"
    },
    {
     "data": {
      "image/png": "[encoded data removed]",
      "text/plain": [
       "<Figure size 500x500 with 1 Axes>"
      ]
     },
     "metadata": {},
     "output_type": "display_data"
    }
   ],
   "source": [
    "# fig, ax = plt.subplots(figsize=(11, 6))\n",
    "sns.catplot(\n",
    "    data=df.drop(\n",
    "        columns=[\"camera_ok\", \"buses\", \"bicycles\", \"trucks\", \"camera\", \"motorcycles\"]\n",
    "    ),\n",
    "    kind=\"box\",\n",
    ")"
   ]
  },
  {
   "cell_type": "code",
   "execution_count": null,
   "metadata": {
    "collapsed": false
   },
   "outputs": [],
   "source": []
  },
  {
   "cell_type": "code",
   "execution_count": 105,
   "metadata": {
    "collapsed": false
   },
   "outputs": [
    {
     "data": {
      "text/plain": [
       "<AxesSubplot: xlabel='timestamp', ylabel='trucks'>"
      ]
     },
     "execution_count": 105,
     "metadata": {},
     "output_type": "execute_result"
    },
    {
     "data": {
      "image/png": "[encoded data removed]",
      "text/plain": [
       "<Figure size 640x480 with 1 Axes>"
      ]
     },
     "metadata": {},
     "output_type": "display_data"
    }
   ],
   "source": [
    "sns.barplot(\n",
    "    data=df.drop(columns=[\"camera_ok\", \"cars\", \"persons\", \"camera\", \"bicycles\"]),\n",
    "    x=\"timestamp\",\n",
    "    y=\"trucks\",\n",
    ")"
   ]
  }
 ],
 "metadata": {
  "kernelspec": {
   "display_name": "requests-technical-notes-jHtpz-4Y-py3.10",
   "language": "python",
   "name": "python3"
  },
  "language_info": {
   "codemirror_mode": {
    "name": "ipython",
    "version": 3
   },
   "file_extension": ".py",
   "mimetype": "text/x-python",
   "name": "python",
   "nbconvert_exporter": "python",
   "pygments_lexer": "ipython3",
   "version": "3.10.6"
  },
  "vscode": {
   "interpreter": {
    "hash": "00d0f943d0eade3cddd348a2dc91ca1d024ecaae3bc8d70a14bf3180ec476981"
   }
  }
 },
 "nbformat": 4,
 "nbformat_minor": 0
}
