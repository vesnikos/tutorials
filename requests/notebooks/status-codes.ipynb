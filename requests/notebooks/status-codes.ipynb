{
 "cells": [
  {
   "attachments": {},
   "cell_type": "markdown",
   "metadata": {},
   "source": [
    "### Status Codes\n",
    "\n",
    "Whenever a request is received, the server will process it and generate an appropriate message to give back at the requestor. That message in the headers, contains a numberical number called `HTTP Status Code` which represents   _how_ a specific HTTP has been completed;  That code will return rven if the buisness logic that was trigered by the request has failed.\n",
    "\n",
    "Responses are grouped in five classes:\n",
    "\n",
    "- Informational responses (100–199)\n",
    "- Successful responses (200–299) # OK\n",
    "- Redirects (300–399)\n",
    "- Client errors (400–499) # Your fault\n",
    "- Server errors (500–599) # Their fault\n",
    "\n",
    "For more information on HTTP status codes, visit [this link](https://developer.mozilla.org/en-US/docs/Web/HTTP/Status).\n",
    "\n",
    "### Status Codes and Requests\n",
    "\n",
    "Each `response` object has a `status_code` attribute. This attribute contains the status code of the response. For example, if you make a `GET` request to `http://www.google.com`, you will get a `200` status code, which means that the server understoon and completed your request succefully (whatever that means).\n",
    "\n",
    "You can access the status code of a response object by using the `status_code` attribute:\n"
   ]
  },
  {
   "cell_type": "code",
   "execution_count": 1,
   "metadata": {},
   "outputs": [
    {
     "data": {
      "text/plain": [
       "200"
      ]
     },
     "execution_count": 1,
     "metadata": {},
     "output_type": "execute_result"
    }
   ],
   "source": [
    "import requests\n",
    "\n",
    "response = requests.get(\"http://www.google.com\")\n",
    "response.status_code  # 200"
   ]
  },
  {
   "cell_type": "markdown",
   "metadata": {},
   "source": [
    "\n",
    "### Status Codes and Errors\n",
    "\n",
    "If a response comes back with anything other than a `200` status code, it means that something went wrong. For example, if you make a `GET` request to `http://www.google.com/404`, you will get a `404` status code, which means that the server could not find the resource you were looking for.\n",
    "\n",
    "Sometimes that is interpreted as an error, but it is not. It is just a status code. you can get `requests` to raise an exception if a request fails by using the `raise_for_status()` method:\n"
   ]
  },
  {
   "cell_type": "code",
   "execution_count": 1,
   "metadata": {},
   "outputs": [
    {
     "name": "stdout",
     "output_type": "stream",
     "text": [
      "404\n"
     ]
    },
    {
     "ename": "HTTPError",
     "evalue": "404 Client Error: Not Found for url: http://www.google.com/404",
     "output_type": "error",
     "traceback": [
      "\u001b[0;31m---------------------------------------------------------------------------\u001b[0m",
      "\u001b[0;31mHTTPError\u001b[0m                                 Traceback (most recent call last)",
      "Cell \u001b[0;32mIn[1], line 5\u001b[0m\n\u001b[1;32m      3\u001b[0m \u001b[39mprint\u001b[39m(response\u001b[39m.\u001b[39mstatus_code)\n\u001b[1;32m      4\u001b[0m \u001b[39m# this will raise an exception\u001b[39;00m\n\u001b[0;32m----> 5\u001b[0m response\u001b[39m.\u001b[39;49mraise_for_status()\n",
      "File \u001b[0;32m~/.cache/pypoetry/virtualenvs/requests-technical-notes-jHtpz-4Y-py3.10/lib/python3.10/site-packages/requests/models.py:1021\u001b[0m, in \u001b[0;36mResponse.raise_for_status\u001b[0;34m(self)\u001b[0m\n\u001b[1;32m   1016\u001b[0m     http_error_msg \u001b[39m=\u001b[39m (\n\u001b[1;32m   1017\u001b[0m         \u001b[39mf\u001b[39m\u001b[39m\"\u001b[39m\u001b[39m{\u001b[39;00m\u001b[39mself\u001b[39m\u001b[39m.\u001b[39mstatus_code\u001b[39m}\u001b[39;00m\u001b[39m Server Error: \u001b[39m\u001b[39m{\u001b[39;00mreason\u001b[39m}\u001b[39;00m\u001b[39m for url: \u001b[39m\u001b[39m{\u001b[39;00m\u001b[39mself\u001b[39m\u001b[39m.\u001b[39murl\u001b[39m}\u001b[39;00m\u001b[39m\"\u001b[39m\n\u001b[1;32m   1018\u001b[0m     )\n\u001b[1;32m   1020\u001b[0m \u001b[39mif\u001b[39;00m http_error_msg:\n\u001b[0;32m-> 1021\u001b[0m     \u001b[39mraise\u001b[39;00m HTTPError(http_error_msg, response\u001b[39m=\u001b[39m\u001b[39mself\u001b[39m)\n",
      "\u001b[0;31mHTTPError\u001b[0m: 404 Client Error: Not Found for url: http://www.google.com/404"
     ]
    }
   ],
   "source": [
    "import requests\n",
    "\n",
    "response = requests.get(\"http://www.google.com/404\")\n",
    "print(response.status_code)\n",
    "# this will raise a HTTPError exception\n",
    "response.raise_for_status()"
   ]
  },
  {
   "attachments": {},
   "cell_type": "markdown",
   "metadata": {},
   "source": [
    "It's your responsibility to handle the exception. You can do that by using a `try`/`except` block. You can read more about the tyes of exceptions in the [Requests documentation](https://requests.readthedocs.io/en/latest/user/quickstart/#errors-and-exceptions)."
   ]
  },
  {
   "cell_type": "code",
   "execution_count": 5,
   "metadata": {},
   "outputs": [
    {
     "name": "stdout",
     "output_type": "stream",
     "text": [
      "404\n",
      "404 Client Error: Not Found for url: http://www.google.com/404\n"
     ]
    }
   ],
   "source": [
    "import requests\n",
    "\n",
    "try:\n",
    "    response = requests.get(\"http://www.google.com/404\")\n",
    "    print(response.status_code)\n",
    "    # raises an HTTPError exception\n",
    "    response.raise_for_status()\n",
    "except requests.exceptions.HTTPError as err:\n",
    "    print(err)"
   ]
  },
  {
   "attachments": {},
   "cell_type": "markdown",
   "metadata": {},
   "source": [
    "#### Note: \n",
    "If a response comes back with a status_code that is not in the 200 block, it does not mean that the request failed.  \n",
    "It just means that the request was completed, but the server believes that something has occured. Data that come back from the server may still be valid!\n",
    "\n",
    "> Note: you can find a list with all the return codes [here](https://developer.mozilla.org/en-US/docs/Web/HTTP/Status)."
   ]
  },
  {
   "cell_type": "code",
   "execution_count": 2,
   "metadata": {},
   "outputs": [
    {
     "ename": "TypeError",
     "evalue": "'LookupDict' object is not callable",
     "output_type": "error",
     "traceback": [
      "\u001b[0;31m---------------------------------------------------------------------------\u001b[0m",
      "\u001b[0;31mTypeError\u001b[0m                                 Traceback (most recent call last)",
      "Cell \u001b[0;32mIn[2], line 2\u001b[0m\n\u001b[1;32m      1\u001b[0m \u001b[39mimport\u001b[39;00m \u001b[39mrequests\u001b[39;00m\n\u001b[0;32m----> 2\u001b[0m requests\u001b[39m.\u001b[39;49mcodes(\u001b[39m200\u001b[39;49m)\n",
      "\u001b[0;31mTypeError\u001b[0m: 'LookupDict' object is not callable"
     ]
    }
   ],
   "source": [
    "import requests\n",
    "\n",
    "requests.codes(200)"
   ]
  },
  {
   "attachments": {},
   "cell_type": "markdown",
   "metadata": {},
   "source": [
    "Exercises: \n",
    " - Write a function that takes a url as an argument and returns the status code of the response. Write tests for this function, using assert statements.\n",
    " \n",
    " - Tip: You can use the `requests.codes` module to make your code more readable. For example, instead of using `200` you can use `requests.codes.ok`. For more information, visit [this link](https://requests.readthedocs.io/en/master/api/#requests.codes).\n",
    " \n",
    " - Tip: You can use https://httpbin.org/status/{for_status} to request a specific status code. For example, https://httpbin.org/status/404 will return a 404 status code.\n",
    "\n",
    " Write your code bellow:\n"
   ]
  },
  {
   "cell_type": "code",
   "execution_count": 12,
   "metadata": {},
   "outputs": [],
   "source": []
  },
  {
   "attachments": {},
   "cell_type": "markdown",
   "metadata": {},
   "source": [
    "The next section is [Requests Content](./requests-content.ipynb)"
   ]
  }
 ],
 "metadata": {
  "kernelspec": {
   "display_name": "requests-technical-notes-6o6imVkM-py3.10",
   "language": "python",
   "name": "python3"
  },
  "language_info": {
   "codemirror_mode": {
    "name": "ipython",
    "version": 3
   },
   "file_extension": ".py",
   "mimetype": "text/x-python",
   "name": "python",
   "nbconvert_exporter": "python",
   "pygments_lexer": "ipython3",
   "version": "3.10.6"
  },
  "orig_nbformat": 4,
  "vscode": {
   "interpreter": {
    "hash": "df2fb281cba34bb9562c58e665b2d1f03a5232a5e7e630fbd21cedbb818e5e60"
   }
  }
 },
 "nbformat": 4,
 "nbformat_minor": 2
}
