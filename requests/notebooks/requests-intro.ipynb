{
 "cells": [
  {
   "attachments": {},
   "cell_type": "markdown",
   "metadata": {},
   "source": [
    "### what is HTTP?\n",
    "\n",
    "HTTP stands for Hyper Text Transfer Protocol. HTTP is a protocol which allows the fetching of _resources_, such as HTML documents. It is the foundation of any data exchange on the Web and it is a client-server protocol, which means requests are initiated by the recipient, usually the Web browser, and served by the server.  \n",
    "The server never initiates any requests to a client.  \n",
    "A complete web document is reconstructed from the different sub-documents fetched, for instance text, layout description, images, videos, etc.\n",
    "\n",
    "\n",
    "> Note: HTTP is `stateless`, which means that the server does not keep any data (state) between two requests. Each request is treated in isolation from the previous one.\n",
    "\n",
    "\n",
    "> Note: There are different protocols besides HTTP that can be used to communicate over the internet. Such protocols include FTP, SSH, and SMTP. The `requests` library only supports HTTP.\n"
   ]
  },
  {
   "attachments": {},
   "cell_type": "markdown",
   "metadata": {},
   "source": [
    "### HTTP Requests Methods \n",
    "\n",
    "\n",
    "HTTP defines a set of request methods to indicate the desired action to be performed for a given `resource`.\n",
    "\n",
    "> Note: What is a web resource? A web resource is any data on the web. It can be a web page, an image, a video, a web service, etc.\n",
    "\n",
    "Although they can also be nouns, these request methods are sometimes referred to as `HTTP verbs`. Each of them implements a different semantic, but some common features are shared by a group of them: e.g. a request method can be safe, idempotent, or cacheable.\n",
    "\n",
    "* `GET`: The GET method requests a representation of the specified resource. Requests using GET should only retrieve data.\n",
    "* `HEAD`: The HEAD method asks for a response identical to that of a GET request, but without the response body.\n",
    "* `POST`: The POST method is used to submit an entity to the specified resource, often causing a change in state or side effects on the server.\n",
    "* `PUT`: The PUT method replaces all current representations of the target resource with the request payload.\n",
    "* `DELETE`: The DELETE method deletes the specified resource.\n",
    "* `CONNECT`: The CONNECT method establishes a tunnel to the server identified by the target resource.\n",
    "* `OPTIONS`: The OPTIONS method is used to describe the communication options for the target resource.\n",
    "* `TRACE`: The TRACE method performs a message loop-back test along the path to the target resource.\n",
    "* `PATCH`: The PATCH method is used to apply partial modifications to a resource.\n",
    "\n",
    "> Note: The most common ones when using APIs are the  `GET`, `POST`. The rest are less common, but you still might encounter them. All of them are supported by the `requests` library. \n",
    "\n",
    "> A more human frienly description of each method can be found in the [MDN Web Docs](https://developer.mozilla.org/en-US/docs/Web/HTTP/Methods).\n",
    "\n",
    "> The HTTP protocol is evolving. The current working version is HTTP version 2 or HTTP/2, where about 97% of the browsers support it. You can access it's formal definition and list of features in the [HTTP/2 specification](https://tools.ietf.org/html/rfc7540#section-8.1).\n",
    "\n"
   ]
  },
  {
   "attachments": {},
   "cell_type": "markdown",
   "metadata": {},
   "source": [
    "The `requests` library acts as a client to make HTTP requests to a server. Exactly as a web browser does. To do so, the `requests` library provides a set of functions that implement the most common HTTP request methods: `get()`, `post()` and etc."
   ]
  },
  {
   "cell_type": "code",
   "execution_count": null,
   "metadata": {},
   "outputs": [],
   "source": [
    "import requests\n",
    "\n",
    "response = requests.get(\"https://www.google.com\")\n",
    "# Response 200"
   ]
  },
  {
   "attachments": {},
   "cell_type": "markdown",
   "metadata": {},
   "source": [
    "Let's expore the above code a little bit:\n",
    "\n",
    "```python\n",
    "import requests\n",
    "```\n",
    "This block of code imports the `requests` library. It is a good practice to import the library at the top of your file.\n",
    "\n",
    "```python\n",
    "response = requests.get('http://www.google.com')\n",
    "``` \n",
    "\n",
    "This line of code makes a `GET` request to the URL `http://www.google.com`. The `requests.get()` function returns a `Response` object. The `Response` object contains all the information about the response that the server sent back to the client.\n",
    "\n",
    "The `Response` object contains the following attributes:  \n",
    "\n",
    "1. `status_code`: The HTTP status code of the response.  \n",
    "1. `headers`: The HTTP headers of the response.  \n",
    "1. `content`: The content of the response.  \n",
    "1. `text`: The content of the response as a string.  \n",
    "1. `url`: The URL of the response.  \n",
    "1. `history`: A list of Response objects from the history of the request.  \n",
    "1. `encoding`: The encoding of the response.  \n",
    "1. `cookies`: A CookieJar object containing all the cookies sent by the server.  \n",
    "1. `elapsed`: A timedelta object indicating the time elapsed between sending the request and the arrival of the response.  \n",
    "1. `reason`: The HTTP reason of the response.  \n",
    "1. `request`: The PreparedRequest object that created the response.  \n",
    "1. `raw`: The raw socket response.  \n",
    "1. `connection`: The underlying Connection object.  \n",
    "1. `close`: Closes the underlying connection.  \n",
    "1. `closed`: Returns a boolean indicating whether the connection is closed or not.  \n",
    "1. `iter_content`: Iterates over the response data.  \n",
    "1. `iter_lines`: Iterates over the response data, one line at a time.  \n",
    "1. `json`: Returns the json-encoded content of a response, if any.  \n",
    "1. `links`: Returns the parsed header links of the response, if any.  \n",
    "1. `raise_for_status`: Raises stored HTTPError, if one occurred.  \n",
    "1. `next`: Returns the next Response object, if a history exists.  \n",
    "1. `content`: Returns the content of the response, in bytes.  \n",
    "1. `text`: Returns the content of the response, in unicode.  \n",
    "1. `json`: Returns the json-encoded content of a response, if any.  \n",
    "1. `raise_for_status`: Raises stored HTTPError, if one occurred.  \n",
    "1. `close`: Closes the underlying connection.  \n",
    "1. `closed`: Returns a boolean indicating whether the connection is closed or not.  \n",
    "1. `iter_content`: Iterates over the response data.  \n",
    "1. `iter_lines`: Iterates over the response data, one line at a time.  \n",
    "1. `links`: Returns the parsed header links of the response, if any.  \n",
    "1. `next`: Returns the next Response object, if a history exists.  \n",
    "1. `raw`: Returns the raw socket\n",
    "\n",
    "> Note: Don't worry if all of the above attributes are not clear to you. In real life scenarions you will be interacting with only a few of them.\n",
    "\n",
    "> Note: The `Response` object is a very powerful object. You can find more information about it in the [official documentation](http://docs.python-requests.org/en/master/api/#requests.Response).\n",
    "\n",
    "> Note: The `Response` object contains a reference to the `Request` object that created it. You can access it by using the `request` attribute of the `Response` object. The `Request` object contains all the information about the request that was sent to the server. You can find more information about it in the [official documentation](http://docs.python-requests.org/en/master/api/#requests.Request)."
   ]
  },
  {
   "attachments": {},
   "cell_type": "markdown",
   "metadata": {},
   "source": [
    "After you have created your `Response` object, you can access any of the above attributes by calling the attribute name on the `Response` object. For example, to get the status code of the response, you can do the following:\n",
    "\n",
    "```python\n",
    "response.status_code\n",
    "# 200\n",
    "```\n",
    "From the list above, some of the attributes `return` something. These attributes are functions. For example, the `json()` function returns the json-encoded content of a response, if any. To use it, you need to call it on the `Response` object. For example:\n",
    "\n",
    "```python\n",
    "response.json()\n",
    "# {'cart-id': '123', 'totalPrice': 1234}\n",
    "```\n",
    "\n",
    "> Note: The `json()` function is very useful when you are working with APIs. You will learn more about it in a next section.\n",
    "\n"
   ]
  },
  {
   "attachments": {},
   "cell_type": "markdown",
   "metadata": {},
   "source": [
    "### Posting Data\n",
    "\n",
    "We have seen how to make a `GET` request. `GET` requests are called safe requests, as do not modify the state of the of the resource. They merely request for a representation of the resource.\n",
    "\n",
    "A `POST` request on the other hand, is used to submit an entity to the specified resource, often causing a change in state or side effects on the server. The server sends back after has acted on the `POST` request and the data that was sent.\n",
    "\n",
    "An example of such operation would be through a form. Let's say you have a form that asks for the user's name and email. When the user submits the form, the data is sent to the server. The server then processes the data and sends a response back to the client. This is a `POST` request.\n",
    "\n",
    "To make a `POST` request, you can use the `requests.post()` function. The `requests.post()` function takes two arguments: the URL and the data. The data parametes is a dictionary that contains the data that you want to send to the server. \n",
    "\n",
    "> Note: The data parameter is optional and anything. Size of the payload could be unlimited, but in reality servers are configuted to a certain amount. Typical maximum sizes could be from  1MB to 2GB. Usually when interacting with APis the payload is a json-string.\n",
    "\n",
    "> Note: Usually through this tutorial I will be using the httpbin.org website to test my code. httpbin.org is a website that provides a set of APIs to test your HTTP requests. You can find more information about it in the [official documentation](https://httpbin.org/).\n"
   ]
  },
  {
   "cell_type": "code",
   "execution_count": 1,
   "metadata": {},
   "outputs": [
    {
     "data": {
      "text/plain": [
       "<Response [200]>"
      ]
     },
     "execution_count": 1,
     "metadata": {},
     "output_type": "execute_result"
    }
   ],
   "source": [
    "import requests\n",
    "\n",
    "response = requests.post(\n",
    "    \"https://httpbin.org/post\", data={\"name\": \"John Doe\", \"age\": 27}\n",
    ")\n",
    "response\n",
    "# <Response [200]>"
   ]
  },
  {
   "attachments": {},
   "cell_type": "markdown",
   "metadata": {},
   "source": [
    "> Note: the `{'name':'John Doe', 'age':27})` dictionary is called a `payload`. It is a set of key-value pairs that contains the data that you want to send to the server."
   ]
  },
  {
   "attachments": {},
   "cell_type": "markdown",
   "metadata": {},
   "source": [
    "### Exersise \n",
    "- Make a function that takes two arguments, name and age. \n",
    "- POST these values to https://httpbin.org/post. Add to your payload the key 'client-id' and give it a value  of 'UoG2023'\n",
    "- Return the response.\n",
    "- After you're done refactor the function to take an infinitive amount of arguments. \n",
    "\n",
    "Write you code below: "
   ]
  },
  {
   "cell_type": "markdown",
   "metadata": {},
   "source": []
  },
  {
   "cell_type": "code",
   "execution_count": null,
   "metadata": {},
   "outputs": [],
   "source": []
  },
  {
   "attachments": {},
   "cell_type": "markdown",
   "metadata": {},
   "source": [
    "We have learned how to do POST and GET requests using the requests library. \n",
    "In the next [section](status-codes.ipynb) we will learn about the status codes that are returned by the server.  \n"
   ]
  }
 ],
 "metadata": {
  "kernelspec": {
   "display_name": "requests-technical-notes-6o6imVkM-py3.10",
   "language": "python",
   "name": "python3"
  },
  "language_info": {
   "codemirror_mode": {
    "name": "ipython",
    "version": 3
   },
   "file_extension": ".py",
   "mimetype": "text/x-python",
   "name": "python",
   "nbconvert_exporter": "python",
   "pygments_lexer": "ipython3",
   "version": "3.10.6"
  },
  "orig_nbformat": 4,
  "vscode": {
   "interpreter": {
    "hash": "df2fb281cba34bb9562c58e665b2d1f03a5232a5e7e630fbd21cedbb818e5e60"
   }
  }
 },
 "nbformat": 4,
 "nbformat_minor": 2
}
