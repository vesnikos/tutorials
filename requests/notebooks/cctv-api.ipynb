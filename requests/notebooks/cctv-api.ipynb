{
 "cells": [
  {
   "attachments": {},
   "cell_type": "markdown",
   "metadata": {},
   "source": [
    "### UBDC CCTV API\n",
    "\n",
    "The UBDC CCTV API is a REST API that provides access to the cctv counts of objects (people, cars, bikes and and more) generated using images from the city's cctv network. these images were processed using a ML model to extract these counts.\n",
    "\n",
    "> Note: If you're intrested in the process you should talk to Luis Serra (luis.serra@glasgow.ac.uk), who developed the model. \n",
    "\n",
    "The API is hosted on the UBDC server and is accessible from anywhere on the internet. The API is documented using the [OpenAPI Specification](https://swagger.io/docs/specification/about/). The documentation is available at the following url: https://glasgow-cctv.ubdc.ac.uk/docs/\n",
    "\n",
    "in the documentation, we can see that the API has a number of endpoints. Each endpoint is a url that we can use to access a resource on the server. For example, the endpoint `/cameras` is used to get a list of all the cameras. The endpoint `/cameras/{camera_id}` is used to get the details of a specific camera. The endpoint `/cameras/{camera_id}/image` is used to get the latest image from a specific camera.\n",
    "\n",
    "> Note: the curly braces `{}` indicate that the value of the parameter is variable. For example, the endpoint `/cameras/{camera_id}` is used to get the details of a specific camera. The value of the `camera_id` parameter is variable. We can use any value for the `camera_id` parameter. For example, we can use the value `1` to get the details of the camera with id `1`. We can also use the value `2` to get the details of the camera with id `2`. We can also use the value `3` to get the details of the camera with id `3`. And so on.\n",
    "\n",
    "If we click on the endpoint `/cameras/records` in the documention page we can see that the endpoint has a query parameter `page`. The query parameter `page` is used to specify the page of the results. The endpoint `/cameras/records` returns a list of records. The list of records is paginated. The query parameter `page` is used to specify which page of the results we want to get. For example, if we want to get the first page of the results, we can use the url `https://glasgow-cctv.ubdc.ac.uk/cameras/records?page=1`. If we want to get the second page of the results, we can use the url `https://glasgow-cctv.ubdc.ubdc.ac.uk/cameras/records?page=2`. And so on.\n",
    "\n",
    "Other parameters exist as well. For example, the above endoint has the parameter 'camera_id'. That parameter is used to specify the camera that we want to get the records for. For example, if we want to get the records for the camera with id `1`, we can use the url `https://glasgow-cctv.ubdc.ac.uk/cameras/records?camera_id=1`. \n",
    "\n",
    "> Note: The query parameters are optional. If we don't specify a query parameter, the server will use a default value for that parameter. \n",
    "\n",
    "if we want to fetch information about the cameras, we can do so by using the endpoint `/cameras`. The endpoint `/cameras` has no query parameters, and returns a json object with a list of all the cameras. For example, if we want to get a list of all the cameras, we can use the url `https://glasgow-cctv.ubdc.ac.uk/cameras`. The response will be a json object with a list of all the cameras alont with metadata about each camera (ie location and label).\n",
    "\n",
    "Besides the documentation, the API also provides a browsable interface. The browsable interface is a web page that allows us to interact with the API. The browsable interface for each endpoint. Simply point your browser to the url of the endpoint and you will be presented with a web page that allows you to interact with the API. For example, if we want to browse the records of all the cameras, we can use the url [https://glasgow-cctv.ubdc.ac.uk/api/records](https://glasgow-cctv.ubdc.ac.uk/api/records). \n",
    "On the top, the interface also provides you with a tool to filter the results accordinly.\n",
    "\n",
    "Documentation: \n",
    "- the documentation :https://glasgow-cctv.ubdc.ac.uk/docs/ \n",
    "- and  browsable version: https://glasgow-cctv.ubdc.ac.uk/api/records # for records"
   ]
  },
  {
   "cell_type": "code",
   "execution_count": 2,
   "metadata": {},
   "outputs": [
    {
     "name": "stdout",
     "output_type": "stream",
     "text": [
      "Fetching page 1 for camera 12\n",
      "Request took 0.1502518653869629 seconds\n",
      "Page 1 for camera 12 has 15 records\n",
      "Fetching page 2 for camera 12\n",
      "Request took 0.1759941577911377 seconds\n",
      "Page 2 for camera 12 has 15 records\n"
     ]
    }
   ],
   "source": [
    "import requests\n",
    "import time\n",
    "URL_BASE = \"https://glasgow-cctv.ubdc.ac.uk/api/\"\n",
    "\n",
    "def fetch_cameras(session: requests.Session):\n",
    "    \"\"\" Fetches a set of cameras from the API. The set contains the camera ID, coordinates and label for each camera. \"\"\"\n",
    "    response = session.get(URL_BASE + \"cameras/\")\n",
    "    return response.json()\n",
    "\n",
    "def fetch_data(session: requests.Session, page: int, camera_id: int):\n",
    "    start_time = time.time()\n",
    "    print(f\"Fetching page {page} for camera {camera_id}\")\n",
    "    response = session.get(\n",
    "        URL_BASE + \"records/\", params={\"page\": page, \"camera_id\": camera_id}\n",
    "    )\n",
    "    print(f\"Request took {time.time() - start_time} seconds\")\n",
    "    return response.json()\n",
    "\n",
    "with requests.Session() as session:\n",
    "    cameras = fetch_cameras(session)\n",
    "    camera_id = cameras[0][\"id\"]\n",
    "    for page in range(1, 3):\n",
    "        data = fetch_data(session, page, camera_id)\n",
    "        print(f\"Page {page} for camera {camera_id} has {len(data['results'])} records\")\n",
    "        time.sleep(1)"
   ]
  },
  {
   "attachments": {},
   "cell_type": "markdown",
   "metadata": {},
   "source": []
  }
 ],
 "metadata": {
  "kernelspec": {
   "display_name": "requests-technical-notes-6o6imVkM-py3.10",
   "language": "python",
   "name": "python3"
  },
  "language_info": {
   "codemirror_mode": {
    "name": "ipython",
    "version": 3
   },
   "file_extension": ".py",
   "mimetype": "text/x-python",
   "name": "python",
   "nbconvert_exporter": "python",
   "pygments_lexer": "ipython3",
   "version": "3.10.6"
  },
  "orig_nbformat": 4,
  "vscode": {
   "interpreter": {
    "hash": "df2fb281cba34bb9562c58e665b2d1f03a5232a5e7e630fbd21cedbb818e5e60"
   }
  }
 },
 "nbformat": 4,
 "nbformat_minor": 2
}
