{
 "cells": [
  {
   "cell_type": "markdown",
   "source": [
    "### BeautifulSoup\n",
    "\n",
    "BeautifulSoup is a python library, that helps you navigate an xml tree and extract attibures and values from it's Nodes\n",
    "> Remember that any html documents are very similar to xml. Today we are going to assume they are the same, but if you're interested, you should read about the differences between, XML, HTML and XHTML\n",
    "\n",
    "In this part we will see how we can navigate the tree."
   ],
   "metadata": {
    "collapsed": false
   }
  },
  {
   "cell_type": "code",
   "execution_count": 96,
   "outputs": [],
   "source": [
    "from pathlib import Path\n",
    "\n",
    "from bs4 import BeautifulSoup"
   ],
   "metadata": {
    "collapsed": false
   }
  },
  {
   "cell_type": "code",
   "execution_count": 10,
   "outputs": [],
   "source": [
    "html_doc = Path('./data/sample-page.html')"
   ],
   "metadata": {
    "collapsed": false
   }
  },
  {
   "cell_type": "code",
   "execution_count": 120,
   "outputs": [],
   "source": [
    "html_doc = \"\"\"\n",
    "<html>\n",
    "<body class=\"body\">\n",
    "    <span>\n",
    "    <i id=\"qqyyzz-1\" class=\"italic\">Lorem ipsum-1</i>\n",
    "    <i id=\"qqyyzz-2\" class=\"italic\">Lorem ipsum-2</i>\n",
    "    </span>\n",
    "</body>\n",
    "</html>\n",
    "\"\"\"\n",
    "# removing some newline noise\n",
    "html_doc = \"\".join(line.strip() for line in html_doc.split(\"\\n\"))\n",
    "parser = BeautifulSoup(html_doc, 'html.parser')"
   ],
   "metadata": {
    "collapsed": false
   }
  },
  {
   "cell_type": "code",
   "execution_count": 116,
   "outputs": [
    {
     "data": {
      "text/plain": "<i class=\"italic\" id=\"qqyyzz-1\">Lorem ipsum-1</i>"
     },
     "execution_count": 116,
     "metadata": {},
     "output_type": "execute_result"
    }
   ],
   "source": [],
   "metadata": {
    "collapsed": false
   }
  },
  {
   "cell_type": "markdown",
   "source": [
    "### Navigating The Tree"
   ],
   "metadata": {
    "collapsed": false
   }
  },
  {
   "cell_type": "markdown",
   "source": [
    "#### Going Down Using Tag names"
   ],
   "metadata": {
    "collapsed": false
   }
  },
  {
   "cell_type": "code",
   "execution_count": 143,
   "outputs": [
    {
     "name": "stdout",
     "output_type": "stream",
     "text": [
      "<body class=\"body\">\n",
      " <span>\n",
      "  <i class=\"italic\" id=\"qqyyzz-1\">\n",
      "   Lorem ipsum-1\n",
      "  </i>\n",
      "  <i class=\"italic\" id=\"qqyyzz-2\">\n",
      "   Lorem ipsum-2\n",
      "  </i>\n",
      " </span>\n",
      "</body>\n"
     ]
    }
   ],
   "source": [
    "# You can go down, by using the tag's name i.e\n",
    "# to select the <Body>\n",
    "parser.body"
   ],
   "metadata": {
    "collapsed": false
   }
  },
  {
   "cell_type": "code",
   "execution_count": 50,
   "outputs": [
    {
     "data": {
      "text/plain": "<span>\n<i class=\"italic\" id=\"qqyyzz-1\">Lorem ipsum-1</i>\n<i class=\"italic\" id=\"qqyyzz-2\">Lorem ipsum-2</i>\n</span>"
     },
     "execution_count": 50,
     "metadata": {},
     "output_type": "execute_result"
    }
   ],
   "source": [
    "# You can use the same trick navigate further down\n",
    "# html > body > span\n",
    "parser.body.span\n"
   ],
   "metadata": {
    "collapsed": false
   }
  },
  {
   "cell_type": "code",
   "execution_count": 52,
   "outputs": [
    {
     "data": {
      "text/plain": "<i class=\"italic\" id=\"qqyyzz-1\">Lorem ipsum-1</i>"
     },
     "execution_count": 52,
     "metadata": {},
     "output_type": "execute_result"
    }
   ],
   "source": [
    "# it will only select the FIRST elemenet of the parent node if are multuple entries\n",
    "# use the find_all() or .childen function to get a list of all the elemenents tehre\n",
    "parser.body.span.i\n"
   ],
   "metadata": {
    "collapsed": false
   }
  },
  {
   "cell_type": "code",
   "execution_count": 136,
   "outputs": [
    {
     "name": "stdout",
     "output_type": "stream",
     "text": [
      "Tag 0 : <i class=\"italic\" id=\"qqyyzz-1\">\n",
      " Lorem ipsum-1\n",
      "</i>\n",
      "\n",
      "Tag 1 : <i class=\"italic\" id=\"qqyyzz-2\">\n",
      " Lorem ipsum-2\n",
      "</i>\n"
     ]
    }
   ],
   "source": [
    "for idx, tag in enumerate(parser.body.span.children):\n",
    "    print('Tag', idx, ':', tag.prettify())"
   ],
   "metadata": {
    "collapsed": false
   }
  },
  {
   "cell_type": "markdown",
   "source": [
    "#### Going Up\n",
    "\n",
    "We can use the `.parent` or `.parents` methods"
   ],
   "metadata": {
    "collapsed": false
   }
  },
  {
   "cell_type": "code",
   "execution_count": 137,
   "outputs": [
    {
     "name": "stdout",
     "output_type": "stream",
     "text": [
      "<body class=\"body\">\n",
      " <span>\n",
      "  <i class=\"italic\" id=\"qqyyzz-1\">\n",
      "   Lorem ipsum-1\n",
      "  </i>\n",
      "  <i class=\"italic\" id=\"qqyyzz-2\">\n",
      "   Lorem ipsum-2\n",
      "  </i>\n",
      " </span>\n",
      "</body>\n"
     ]
    }
   ],
   "source": [
    "# going  body > span > body\n",
    "parent = parser.body.span.parent\n",
    "print(parser.body.span.parent.prettify())"
   ],
   "metadata": {
    "collapsed": false
   }
  },
  {
   "cell_type": "markdown",
   "source": [
    "## Left And Right\n",
    "Use .next_sibling / .previous_sibling to go left or right"
   ],
   "metadata": {
    "collapsed": false
   }
  },
  {
   "cell_type": "code",
   "execution_count": 153,
   "outputs": [
    {
     "name": "stdout",
     "output_type": "stream",
     "text": [
      "<i class=\"italic\" id=\"qqyyzz-1\">Lorem ipsum-1</i>\n"
     ]
    }
   ],
   "source": [
    "# get the first <i> inside the span\n",
    "iTag = next(parser.body.span.children)\n",
    "print(iTag)"
   ],
   "metadata": {
    "collapsed": false
   }
  },
  {
   "cell_type": "code",
   "execution_count": 155,
   "outputs": [
    {
     "data": {
      "text/plain": "<i class=\"italic\" id=\"qqyyzz-2\">Lorem ipsum-2</i>"
     },
     "execution_count": 155,
     "metadata": {},
     "output_type": "execute_result"
    }
   ],
   "source": [
    "next_item = iTag.next_sibling\n",
    "next_item\n"
   ],
   "metadata": {
    "collapsed": false
   }
  },
  {
   "cell_type": "code",
   "execution_count": null,
   "outputs": [],
   "source": [],
   "metadata": {
    "collapsed": false
   }
  }
 ],
 "metadata": {
  "kernelspec": {
   "display_name": "Python 3",
   "language": "python",
   "name": "python3"
  },
  "language_info": {
   "codemirror_mode": {
    "name": "ipython",
    "version": 2
   },
   "file_extension": ".py",
   "mimetype": "text/x-python",
   "name": "python",
   "nbconvert_exporter": "python",
   "pygments_lexer": "ipython2",
   "version": "2.7.6"
  }
 },
 "nbformat": 4,
 "nbformat_minor": 0
}
