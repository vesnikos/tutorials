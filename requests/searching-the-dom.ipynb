{
 "cells": [
  {
   "cell_type": "code",
   "execution_count": 1,
   "outputs": [],
   "source": [
    "from pathlib import Path\n",
    "\n",
    "from bs4 import BeautifulSoup"
   ],
   "metadata": {
    "collapsed": false
   }
  },
  {
   "cell_type": "code",
   "execution_count": 25,
   "outputs": [],
   "source": [
    "html_doc = Path('./data/sample-page.html').read_text()\n",
    "html_doc = \"\".join(line.strip() for line in html_doc.split(\"\\n\"))"
   ],
   "metadata": {
    "collapsed": false
   }
  },
  {
   "cell_type": "code",
   "execution_count": 26,
   "outputs": [],
   "source": [
    "parser = BeautifulSoup(html_doc, 'html')"
   ],
   "metadata": {
    "collapsed": false
   }
  },
  {
   "cell_type": "code",
   "execution_count": 68,
   "outputs": [],
   "source": [
    "p = parser.select_one('#results')\n"
   ],
   "metadata": {
    "collapsed": false
   }
  },
  {
   "cell_type": "code",
   "execution_count": 69,
   "outputs": [
    {
     "name": "stdout",
     "output_type": "stream",
     "text": [
      "{'id': 'banner', 'class': ['solid-green', 'result-banner']}\n",
      "{'id': 'result-item-1', 'class': ['result-item', 'solid-green']}\n",
      "{'id': 'result-item-2', 'class': ['result-item', 'solid-green']}\n"
     ]
    }
   ],
   "source": [
    "for c in p.children:\n",
    "    print(c.attrs)\n"
   ],
   "metadata": {
    "collapsed": false
   }
  },
  {
   "cell_type": "code",
   "execution_count": 66,
   "outputs": [],
   "source": [],
   "metadata": {
    "collapsed": false
   }
  },
  {
   "cell_type": "code",
   "execution_count": 65,
   "outputs": [
    {
     "name": "stdout",
     "output_type": "stream",
     "text": [
      "Jane Doe, Occupation: Programmer, Room: 1234-A\n",
      "Adam Smith, Occupation: System Architect, Room: 1234-C\n"
     ]
    }
   ],
   "source": [
    "for children in p[0].children:\n",
    "    if children.attrs.get('id') and children.attrs['id'].startswith('result'):\n",
    "        # find the first <span>, get it's string\n",
    "        name = children.find('span')\n",
    "        # 3 <Li> in the <Ul>\n",
    "        data = children.find_all('li')\n",
    "        occupation, room, building = data\n",
    "        print(f'{name.string}, {occupation.string}, {room.string}')\n"
   ],
   "metadata": {
    "collapsed": false
   }
  }
 ],
 "metadata": {
  "kernelspec": {
   "display_name": "Python 3",
   "language": "python",
   "name": "python3"
  },
  "language_info": {
   "codemirror_mode": {
    "name": "ipython",
    "version": 2
   },
   "file_extension": ".py",
   "mimetype": "text/x-python",
   "name": "python",
   "nbconvert_exporter": "python",
   "pygments_lexer": "ipython2",
   "version": "2.7.6"
  }
 },
 "nbformat": 4,
 "nbformat_minor": 0
}
