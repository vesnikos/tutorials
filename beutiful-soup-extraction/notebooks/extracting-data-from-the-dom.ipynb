{
 "cells": [
  {
   "cell_type": "code",
   "execution_count": 9,
   "metadata": {
    "collapsed": true
   },
   "outputs": [],
   "source": [
    "from bs4 import BeautifulSoup"
   ]
  },
  {
   "cell_type": "code",
   "execution_count": 3,
   "metadata": {
    "collapsed": false
   },
   "outputs": [],
   "source": [
    "html_doc = \"\"\"\n",
    "<html>\n",
    "<body class=\"body\">\n",
    "    <span>\n",
    "    <i id=\"qqyyzz-1\" class=\"italic\">Lorem ipsum-1</i>\n",
    "    <i id=\"qqyyzz-2\" class=\"italic\">Lorem ipsum-2</i>\n",
    "    </span>\n",
    "</body>\n",
    "</html>\n",
    "\"\"\"\n",
    "# removing some newline noise\n",
    "html_doc = \"\".join(line.strip() for line in html_doc.split(\"\\n\"))\n",
    "parser = BeautifulSoup(html_doc, \"html.parser\")"
   ]
  },
  {
   "cell_type": "markdown",
   "metadata": {
    "collapsed": false
   },
   "source": [
    "After we obtain a reference to a Node we can have access to its attributes.\n",
    "from the previous example:"
   ]
  },
  {
   "cell_type": "code",
   "execution_count": 12,
   "metadata": {
    "collapsed": false
   },
   "outputs": [
    {
     "name": "stdout",
     "output_type": "stream",
     "text": [
      "<i class=\"italic\" id=\"qqyyzz-1\">\n",
      " Lorem ipsum-1\n",
      "</i>\n",
      "\n"
     ]
    }
   ],
   "source": [
    "tag = parser.body.span.i\n",
    "print(tag.prettify())"
   ]
  },
  {
   "cell_type": "code",
   "execution_count": 13,
   "metadata": {
    "collapsed": false
   },
   "outputs": [
    {
     "data": {
      "text/plain": [
       "{'id': 'qqyyzz-1', 'class': ['italic']}"
      ]
     },
     "execution_count": 13,
     "metadata": {},
     "output_type": "execute_result"
    }
   ],
   "source": [
    "tag.attrs"
   ]
  },
  {
   "cell_type": "code",
   "execution_count": 26,
   "metadata": {
    "collapsed": false
   },
   "outputs": [
    {
     "name": "stdout",
     "output_type": "stream",
     "text": [
      "Lorem ipsum-1\n",
      "Lorem ipsum-1\n",
      "Lorem ipsum-1\n"
     ]
    }
   ],
   "source": [
    "# The string bit is a child of the  Node<I> tag. It's type is NavigableString.\n",
    "# You can access it straight using by any of the methods bellow. The most clean way is by .string attribute on the parent node\n",
    "\n",
    "print(tag.string)  # use this one\n",
    "print(next(tag.children))\n",
    "print(next(tag.descendants))"
   ]
  }
 ],
 "metadata": {
  "kernelspec": {
   "display_name": "beutiful-soup-extraction-Ku8d3yTG-py3.10",
   "language": "python",
   "name": "python3"
  },
  "language_info": {
   "codemirror_mode": {
    "name": "ipython",
    "version": 2
   },
   "file_extension": ".py",
   "mimetype": "text/x-python",
   "name": "python",
   "nbconvert_exporter": "python",
   "pygments_lexer": "ipython2",
   "version": "3.10.6"
  },
  "vscode": {
   "interpreter": {
    "hash": "595c9d301ad35a04f969b524eb2e2ca3caf3acfd4496e718f40bf36448d2d26f"
   }
  }
 },
 "nbformat": 4,
 "nbformat_minor": 0
}
