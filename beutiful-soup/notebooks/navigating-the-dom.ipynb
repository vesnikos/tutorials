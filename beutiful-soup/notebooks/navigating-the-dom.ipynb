{
 "cells": [
  {
   "attachments": {},
   "cell_type": "markdown",
   "metadata": {
    "collapsed": false
   },
   "source": [
    "### BeautifulSoup\n",
    "\n",
    "As discussed in the the introduction, the HTML DOM is a tree structure, which each node is a tag. \n",
    "Each `Tag` has a name and potentially  attributes  other children.\n",
    "\n",
    "`BeautifulSoup` is a popular python library, that helps you navigate, find and extract these elements. \n",
    "\n",
    "```python\n",
    "from bs4 import BeautifulSoup\n",
    "\n",
    "# The html_doc is a string that contains the html\n",
    "\n",
    "# the html.parser is the default parser\n",
    "# If you are wondering where it came from:\n",
    "# html is a module that comes with python, \n",
    "# and parser is a class in that module\n",
    "# so, 'html.parser' is a string that represents \n",
    "# the class for beautiful soup to use.\n",
    "soup = BeautifulSoup(html_doc, 'html.parser')\n",
    "```\n",
    "> Note: you can see a list of all the available parsrs [here](https://www.crummy.com/software/BeautifulSoup/bs4/doc/#installing-a-parser)\n",
    "\n",
    "From there, if the html is valid, you can navigate through the tree using the library's methods.\n",
    "\n",
    "> Note: It's easier think, that the soup variable points to the head of tree. \n"
   ]
  },
  {
   "cell_type": "code",
   "execution_count": 10,
   "metadata": {
    "collapsed": false
   },
   "outputs": [],
   "source": [
    "html_doc = Path(\"./data/sample-page.html\")"
   ]
  },
  {
   "attachments": {},
   "cell_type": "markdown",
   "metadata": {},
   "source": [
    "Bellow we are going to use a simple page. \n",
    " - The `<HTML> ` tag has two children\n",
    "    - `<Head>` tag,\n",
    "        - which has a `<title>` tag\n",
    "    - and `<Body>` tag. \n",
    "        - which has a `<span>` tag\n",
    "            - which have two `<i>` tags\n"
   ]
  },
  {
   "cell_type": "code",
   "execution_count": 3,
   "metadata": {
    "collapsed": false
   },
   "outputs": [],
   "source": [
    "from bs4 import BeautifulSoup\n",
    "html_doc = \"\"\"\n",
    "<html>\n",
    "<head>\n",
    "    <title>Title-1</title>\n",
    "</head>\n",
    "<body class=\"body\">\n",
    "    <span>\n",
    "        <i id=\"qqyyzz-1\" class=\"italic\">Lorem ipsum-1</i>\n",
    "        <i id=\"qqyyzz-2\" class=\"italic\">Lorem ipsum-2</i>\n",
    "    </span>\n",
    "</body>\n",
    "</html>\n",
    "\"\"\"\n",
    "# removing some newline noise\n",
    "html_doc = \"\".join(line.strip() for line in html_doc.split(\"\\n\"))\n",
    "soup = BeautifulSoup(html_doc, \"html.parser\")"
   ]
  },
  {
   "cell_type": "code",
   "execution_count": 4,
   "metadata": {
    "collapsed": false
   },
   "outputs": [
    {
     "data": {
      "text/plain": [
       "<html><head><title>Title-1</title></head><body class=\"body\"><span><i class=\"italic\" id=\"qqyyzz-1\">Lorem ipsum-1</i><i class=\"italic\" id=\"qqyyzz-2\">Lorem ipsum-2</i></span></body></html>"
      ]
     },
     "execution_count": 4,
     "metadata": {},
     "output_type": "execute_result"
    }
   ],
   "source": [
    "soup\n",
    "# <html>...</html>"
   ]
  },
  {
   "cell_type": "markdown",
   "metadata": {
    "collapsed": false
   },
   "source": [
    "### Navigating The Tree"
   ]
  },
  {
   "attachments": {},
   "cell_type": "markdown",
   "metadata": {
    "collapsed": false
   },
   "source": [
    "#### Reference the immediate children of a node by name\n",
    "\n",
    "\n",
    "From the reference node, we can get a referene to the immediate child of the of the starting node, using the  `tag name` of the node we want to reach. \n",
    "\n",
    "~~~python\n",
    "body = soup.body\n",
    "head = soup.head\n",
    "~~~\n",
    "\n"
   ]
  },
  {
   "cell_type": "code",
   "execution_count": 8,
   "metadata": {
    "collapsed": false
   },
   "outputs": [
    {
     "data": {
      "text/plain": [
       "<title>Title-1</title>"
      ]
     },
     "execution_count": 8,
     "metadata": {},
     "output_type": "execute_result"
    }
   ],
   "source": [
    "soup.title"
   ]
  },
  {
   "attachments": {},
   "cell_type": "markdown",
   "metadata": {},
   "source": [
    "Each call of the `tag name` method, returns a reference to the `first` node with that tag name. One advantage of that is that you can chain the calls, to get a reference to the node you want to reach.\n",
    "\n",
    "i.e if you want to get a reference to the `span` tag, that is inside the `body` tag, you can do the following:\n",
    "~~~python\n",
    "span = parser.body.span\n",
    "~~~"
   ]
  },
  {
   "attachments": {},
   "cell_type": "markdown",
   "metadata": {
    "collapsed": false
   },
   "source": [
    " it will only select the FIRST elemenet of the parent node if are multuple entries. If there are multiple entries, you can use the find_all() or .childen function to get a list of all the elemenents there.\n",
    "\n",
    "> Note: the children attribute returns a `list` of all the children of the node.  As a list you can either iterate over it or use the index to get a specific element (if you know which one you want)."
   ]
  },
  {
   "cell_type": "code",
   "execution_count": 9,
   "metadata": {
    "collapsed": false
   },
   "outputs": [
    {
     "name": "stdout",
     "output_type": "stream",
     "text": [
      "Tag 0 : <i class=\"italic\" id=\"qqyyzz-1\">\n",
      " Lorem ipsum-1\n",
      "</i>\n",
      "\n",
      "Tag 1 : <i class=\"italic\" id=\"qqyyzz-2\">\n",
      " Lorem ipsum-2\n",
      "</i>\n"
     ]
    }
   ],
   "source": [
    "#  https://www.crummy.com/software/BeautifulSoup/bs4/doc/#pretty-printing\n",
    "for idx, tag in enumerate(parser.body.span.children):\n",
    "    print(\"Tag\", idx, \":\", tag.prettify())\n"
   ]
  },
  {
   "attachments": {},
   "cell_type": "markdown",
   "metadata": {
    "collapsed": false
   },
   "source": [
    "#### Going Up\n",
    "\n",
    "We can use the `.parent` or `.parents` attribute to get a reference to the parent or the parents of the node.\n",
    "\n",
    "In the example below we start from the root, \n",
    "- then going down to body \n",
    "- then to the span, \n",
    "- and then up again"
   ]
  },
  {
   "cell_type": "code",
   "execution_count": 12,
   "metadata": {
    "collapsed": false
   },
   "outputs": [
    {
     "name": "stdout",
     "output_type": "stream",
     "text": [
      "<html>\n",
      " <body class=\"body\">\n",
      "  <span>\n",
      "   <i class=\"italic\" id=\"qqyyzz-1\">\n",
      "    Lorem ipsum-1\n",
      "   </i>\n",
      "   <i class=\"italic\" id=\"qqyyzz-2\">\n",
      "    Lorem ipsum-2\n",
      "   </i>\n",
      "  </span>\n",
      " </body>\n",
      "</html>\n"
     ]
    }
   ],
   "source": [
    "# going  body > span > body\n",
    "parent = soup.body.span.parent.parent\n",
    "print(parent.prettify())"
   ]
  },
  {
   "attachments": {},
   "cell_type": "markdown",
   "metadata": {
    "collapsed": false
   },
   "source": [
    "## Left And Right\n",
    "We can use .next_sibling / .previous_sibling methods to go left or right in the tree."
   ]
  },
  {
   "cell_type": "code",
   "execution_count": 11,
   "metadata": {
    "collapsed": false
   },
   "outputs": [
    {
     "name": "stdout",
     "output_type": "stream",
     "text": [
      "<i class=\"italic\" id=\"qqyyzz-1\">Lorem ipsum-1</i>\n"
     ]
    },
    {
     "data": {
      "text/plain": [
       "<i class=\"italic\" id=\"qqyyzz-2\">Lorem ipsum-2</i>"
      ]
     },
     "execution_count": 11,
     "metadata": {},
     "output_type": "execute_result"
    }
   ],
   "source": [
    "# get the first <i> inside the span\n",
    "iTag = next(soup.body.span.children)\n",
    "print(iTag)\n",
    "next_item = iTag.next_sibling\n",
    "next_item"
   ]
  },
  {
   "attachments": {},
   "cell_type": "markdown",
   "metadata": {},
   "source": [
    "There are a lot of other methods that you can use to navigate the tree. If you want to know more, you can check the [documentation](https://www.crummy.com/software/BeautifulSoup/bs4/doc/#navigating-the-tree)\n",
    "\n",
    "In the next [notebook](./searching-the-dom.ipynb) are going to explore how to search for a specific node(s) in the tree."
   ]
  }
 ],
 "metadata": {
  "kernelspec": {
   "display_name": "beutiful-soup-extraction-Ku8d3yTG-py3.10",
   "language": "python",
   "name": "python3"
  },
  "language_info": {
   "codemirror_mode": {
    "name": "ipython",
    "version": 3
   },
   "file_extension": ".py",
   "mimetype": "text/x-python",
   "name": "python",
   "nbconvert_exporter": "python",
   "pygments_lexer": "ipython3",
   "version": "3.10.6"
  },
  "vscode": {
   "interpreter": {
    "hash": "595c9d301ad35a04f969b524eb2e2ca3caf3acfd4496e718f40bf36448d2d26f"
   }
  }
 },
 "nbformat": 4,
 "nbformat_minor": 0
}
